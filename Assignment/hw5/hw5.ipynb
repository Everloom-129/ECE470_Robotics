{
 "cells": [
  {
   "cell_type": "markdown",
   "metadata": {},
   "source": [
    "# HW5 \n",
    "- Jie Wang & GPTs:Data Analyst\n",
    "- 04/29/2024\n",
    "> Notice: This is an experiment and review for the hw5, please don't share it with others without my permission. Feel free to discuss with me regarding the prompt / tech details. \n",
    "## Trajectory Generation\n",
    "### 1. Trajectory generation 1\n",
    "![Q1](./hw5.asset/1.png)\n",
    "To solve this trajectory generation problem, we will follow these steps:\n",
    "\n",
    "1. **Define the constraints**: Given the trajectory function $ s(t) = a_0 + a_1t + a_2t^2 + a_3t^3 $, we need to satisfy the boundary conditions at $ t = 0 $ and $ t = T $, where $ T = 5 $ seconds.\n",
    "   \n",
    "    - Start with zero velocity: $ s'(0) = a_1 = 0 $ because the first derivative of position with respect to time is velocity.\n",
    "    - Reach the destination with zero velocity: $ s'(T) = 0 $.\n",
    "    - Start at initial position: $ s(0) = a_0 = \\text{position at } t = 0 $.\n",
    "    - End at final position: $ s(T) = a_0 + a_1T + a_2T^2 + a_3T^3 = \\text{position at } t = T $.\n",
    "\n",
    "2. **Solve for the coefficients**: To determine the values of $ a_0, a_1, a_2, a_3 $, we need to set up equations using these constraints.\n",
    "\n",
    "3. **Compute the solutions**: Use the equations to solve for the unknown coefficients.\n",
    "\n",
    "Let's apply these steps. We start with zero velocity at $ t = 0 $, which gives us $ a_1 = 0 $. The velocity at $ t = T $ is given by the derivative of $ s(t) $ with respect to $ t $, which is $ s'(t) = a_1 + 2a_2t + 3a_3t^2 $. Setting $ s'(T) = 0 $ gives us another equation. We know $ s(0) $ and $ s(T) $, but we need their values to proceed. They're not given, so let's assume $ s(0) = 0 $ (start at the origin) and $ s(T) $ is the distance to be traveled, which we'll also need to define.\n",
    "\n",
    "I'll start by setting up the system of equations with the given information, assuming $ s(0) = 0 $ and $ s(T) = D $, where $ D $ is the total distance. Here are our equations:\n",
    "\n",
    "- $ s(0) = a_0 = 0 $\n",
    "- $ s'(0) = a_1 = 0 $\n",
    "- $ s'(T) = a_1 + 2a_2T + 3a_3T^2 = 0 $\n",
    "- $ s(T) = a_0 + a_1T + a_2T^2 + a_3T^3 = D $\n",
    "\n",
    "Solving for $ a_0 $, $ a_1 $, we already know $ a_0 = 0 $ and $ a_1 = 0 $. We will solve for $ a_2 $ and $ a_3 $ with the remaining equations. We also have the acceleration at $ t = 0 $ and $ t = T $ (second derivative of $ s(t) $), which must be finite and continuous, but there's no explicit value given for these, so they cannot provide us with additional equations. We will now solve for $ a_2 $ and $ a_3 $ given $ T = 5 $ and an assumed $ D $. We can set $ D = 1 $ for simplicity and later scale the solution for any distance.\n"
   ]
  },
  {
   "cell_type": "code",
   "execution_count": 21,
   "metadata": {},
   "outputs": [
    {
     "data": {
      "text/plain": [
       "{a0: 0, a1: 0, a2: 3/25, a3: -2/125}"
      ]
     },
     "execution_count": 21,
     "metadata": {},
     "output_type": "execute_result"
    }
   ],
   "source": [
    "from sympy import symbols, Eq, solve\n",
    "\n",
    "# Define the symbols\n",
    "a0, a1, a2, a3, T, D = symbols('a0 a1 a2 a3 T D')\n",
    "\n",
    "# Given values\n",
    "T_value = 5  # Time duration\n",
    "D_value = 1  # Assumed distance for the solution\n",
    "\n",
    "# System of equations based on the given constraints\n",
    "eq1 = Eq(a0, 0)  # s(0) = a0\n",
    "eq2 = Eq(a1, 0)  # s'(0) = a1\n",
    "eq3 = Eq(a1 + 2*a2*T + 3*a3*T**2, 0)  # s'(T) = 0 for zero velocity at T\n",
    "eq4 = Eq(a0 + a1*T + a2*T**2 + a3*T**3, D)  # s(T) = D for the final position at T\n",
    "\n",
    "# Solve the system of equations\n",
    "solutions = solve((eq1, eq2, eq3, eq4), (a0, a1, a2, a3))\n",
    "\n",
    "# Substitute T = 5 and D = 1 into the solutions\n",
    "coefficients = {k: v.subs({T: T_value, D: D_value}) for k, v in solutions.items()}\n",
    "coefficients\n"
   ]
  },
  {
   "cell_type": "markdown",
   "metadata": {},
   "source": [
    "\n",
    "Let me do the calculations.\n",
    "\n",
    "The solution for the trajectory coefficients is as follows:\n",
    "\n",
    "- $ a_0 = 0 $\n",
    "- $ a_1 = 0 $\n",
    "- $ a_2 = \\frac{3}{25} $\n",
    "- $ a_3 = -\\frac{2}{125} $\n",
    "\n",
    "These coefficients will ensure the robot starts at the origin with zero velocity, accelerates, and then decelerates to reach the destination, also with zero velocity, over a 5-second interval. If you need the coefficients for a different total distance, these coefficients can be scaled accordingly."
   ]
  },
  {
   "cell_type": "markdown",
   "metadata": {},
   "source": [
    "### 2. Trajectory generation\n",
    "![Q2](./hw5.asset/2.png)"
   ]
  },
  {
   "cell_type": "markdown",
   "metadata": {},
   "source": [
    "\n",
    "To solve this problem, we'll proceed with the following steps:\n",
    "\n",
    "1. **Parametrize the Ellipse**: We'll create a parameterization of the ellipse that satisfies the given points. Since the path starts at (0,0), passes through (5,2), then (10,0), and (5,-2) before returning to the origin, we set the semi-major axis $ a $ and semi-minor axis $ b $ of the ellipse.\n",
    "\n",
    "2. **Define the Parameter $ s $**: The parameter $ s $ varies from 0 to 1, so it can be related to the angle $ \\theta $ in the parametric equations of the ellipse $ x(\\theta) = a\\cos(\\theta) $ and $ y(\\theta) = b\\sin(\\theta) $. Since the path is traveled in a clockwise direction, $ \\theta $ will decrease from $ 0 $ to $ -2\\pi $ as $ s $ goes from 0 to 1.\n",
    "\n",
    "3. **Calculate the Position for $ s = 0.38 $**: We need to find the corresponding angle $ \\theta $ for $ s = 0.38 $ and then calculate $ x_1 $ and $ y_1 $ using the parametric equations.\n",
    "\n",
    "\n",
    "*参数方程，小子*"
   ]
  },
  {
   "cell_type": "markdown",
   "metadata": {},
   "source": [
    "\n",
    "Let's start with identifying the axes lengths:\n",
    "- The maximum $ x $-value is $ 10 $, which is twice the semi-major axis, so $ a = 5 $.\n",
    "- The maximum $ y $-value is $ 2 $, which is the semi-minor axis, so $ b = 2 $.\n",
    "\n",
    "Now let's determine $ x_1 $ and $ y_1 $ for $ s = 0.38 $.\n",
    "\n"
   ]
  },
  {
   "cell_type": "markdown",
   "metadata": {},
   "source": [
    "\n",
    "The relationship between $ s $ and $ \\theta $ can be expressed as:\n",
    "$$ x(\\theta) = \\pi(1 - 2s) $$\n",
    "\n",
    "\n",
    "\n",
    "The parametric equations of the ellipse are:\n",
    "$$ x = h+ a\\cos(\\theta) $$\n",
    "$$ y = k+ b\\sin(\\theta) $$\n",
    "\n",
    "We will substitute $ a = 5,b = 2 $, $ h =5, k = 0 $, and $ \\theta $ to find $ x_1 $ and $ y_1 $. Let's perform these calculations."
   ]
  },
  {
   "cell_type": "code",
   "execution_count": 22,
   "metadata": {},
   "outputs": [
    {
     "data": {
      "text/plain": [
       "(0.7539822368615503, 8.644843137107058, 1.3690942118573772)"
      ]
     },
     "execution_count": 22,
     "metadata": {},
     "output_type": "execute_result"
    }
   ],
   "source": [
    "import numpy as np\n",
    "# Constants for the ellipse\n",
    "h, k = 5, 0  # center of the ellipse\n",
    "a, b = 5, 2  # semi-major and semi-minor axes\n",
    "s = 0.38  # path parameter\n",
    "\n",
    "# Calculate theta based on s (since the motion is clockwise, theta decreases as s increases)\n",
    "theta = np.pi * (1 - 2 * s)\n",
    "\n",
    "\n",
    "# Calculate x and y coordinates based on theta\n",
    "x = h + a * np.cos(theta)\n",
    "y = k + b * np.sin(theta)\n",
    "\n",
    "theta, x, y\n"
   ]
  },
  {
   "cell_type": "markdown",
   "metadata": {},
   "source": [
    "## Motion Planning\n",
    "### 3. Are two spheres in collision\n",
    "![Q3](hw5.asset/3.png)"
   ]
  },
  {
   "cell_type": "markdown",
   "metadata": {},
   "source": [
    "To determine if two spheres are in collision, we will follow these steps:\n",
    "\n",
    "1. Calculate the distance between the centers of the two spheres.\n",
    "2. Compare this distance with the sum of the radii of the two spheres.\n",
    "3. If the distance is less than or equal to the sum of the radii, the spheres are in collision.\n",
    "\n",
    "I'll use the data from the image and calculate these step by step. Let's start by extracting the centers and radii of the two spheres from the image.\n",
    "\n"
   ]
  },
  {
   "cell_type": "code",
   "execution_count": 23,
   "metadata": {},
   "outputs": [
    {
     "data": {
      "text/plain": [
       "(4.167167798397371, 2.4659, False)"
      ]
     },
     "execution_count": 23,
     "metadata": {},
     "output_type": "execute_result"
    }
   ],
   "source": [
    "# Given centers and radii of the two spheres from the image\n",
    "p_1 = np.array([-1.4792, -0.8192, 2.7832])\n",
    "p_2 = np.array([-0.0656, 2.6803, 1.0167])\n",
    "r_1 = 1.2253\n",
    "r_2 = 1.2406\n",
    "\n",
    "# Step 1: Calculate the distance between the centers of the two spheres\n",
    "distance = np.linalg.norm(p_2 - p_1)\n",
    "\n",
    "# Step 2: Calculate the sum of the radii\n",
    "sum_of_radii = r_1 + r_2\n",
    "\n",
    "# Step 3: Check if the spheres are in collision (distance <= sum_of_radii)\n",
    "collision = distance <= sum_of_radii\n",
    "\n",
    "distance, sum_of_radii, collision\n"
   ]
  },
  {
   "cell_type": "markdown",
   "metadata": {},
   "source": [
    "After performing the calculations:\n",
    "\n",
    "1. The distance between the centers of the two spheres is approximately 4.1672 units.\n",
    "2. The sum of the radii of the two spheres is 2.4659 units.\n",
    "3. The distance is greater than the sum of the radii.\n",
    "\n",
    "Based on these results, the two spheres are not in collision. The answer is (b) no."
   ]
  },
  {
   "cell_type": "markdown",
   "metadata": {},
   "source": [
    "### 4. Are two spheres in collision (n times)\n",
    "![Q4](hw5.asset/4.png)"
   ]
  },
  {
   "cell_type": "markdown",
   "metadata": {},
   "source": [
    "To find with which of the first 10 spheres the 11th sphere is in collision, we can follow these steps:\n",
    "\n",
    "1. For each of the first 10 spheres, calculate the distance between its center and the center of the 11th sphere.\n",
    "2. Compare each distance with the sum of the radius of that sphere and the radius of the 11th sphere.\n",
    "3. If the distance is less than or equal to the sum of the radii, then the spheres are in collision.\n",
    "4. Construct the matrix $ C $ of size $ 1 \\times 10 $, setting the entry $ C_{i} $ to 1 if sphere $ i $ is in collision with the 11th sphere, and 0 otherwise.\n",
    "\n",
    "Let's perform these calculations using the provided code.\n",
    "\n"
   ]
  },
  {
   "cell_type": "code",
   "execution_count": 24,
   "metadata": {},
   "outputs": [
    {
     "data": {
      "text/plain": [
       "array([[1., 0., 1., 0., 1., 1., 0., 0., 0., 0.]])"
      ]
     },
     "execution_count": 24,
     "metadata": {},
     "output_type": "execute_result"
    }
   ],
   "source": [
    "# Provided code with the centers and radii of the spheres\n",
    "p = np.array([[0.3213, 2.1689, 4.1269, 4.6889, 2.6586, 3.2430, -4.9278, -4.0774,  4.0090, -1.2000],\n",
    "              [-0.6058, 1.0893, -2.4519, 3.1644, -4.2062, -2.9481, 4.0883, -0.4503,  1.4672, 1.7338],\n",
    "              [0.5037, -1.5785, 2.8843, 2.8083, -0.0989, 0.9659, 3.5168, -0.7448,  -1.3763, 2.2363]])\n",
    "r = np.array([[2.1501, 2.0739, 2.6668, 1.9170, 1.0268, 2.1013, 2.6352, 2.9165, 1.8778,  1.0204]])\n",
    "q = np.array([[2.5100], [-2.2664], [2.4230]])\n",
    "s = 2.6058\n",
    "\n",
    "# Number of spheres (excluding the 11th one)\n",
    "num_spheres = p.shape[1]\n",
    "\n",
    "# Initialize matrix C of size 1 x 10\n",
    "C = np.zeros((1, num_spheres))\n",
    "\n",
    "# Compute the matrix C\n",
    "for i in range(num_spheres):\n",
    "    # Calculate the distance between sphere i and sphere 11\n",
    "    distance = np.linalg.norm(p[:, i] - q.ravel())\n",
    "    \n",
    "    # Sum of the radii of sphere i and sphere 11\n",
    "    sum_radii = r[0, i] + s\n",
    "    \n",
    "    # If the distance is less than or equal to the sum of the radii, they are in collision\n",
    "    if distance <= sum_radii:\n",
    "        C[0, i] = 1\n",
    "\n",
    "C\n"
   ]
  },
  {
   "cell_type": "markdown",
   "metadata": {},
   "source": [
    "The matrix $ C $ computed with the given code is:\n",
    "\n",
    "$$ C = \\begin{bmatrix} 1 & 0 & 1 & 0 & 1 & 1 & 0 & 0 & 0 & 0 \\end{bmatrix} $$\n",
    "\n",
    "This matrix indicates that the 11th sphere is in collision with spheres 1, 3, 5, and 6. The entries with a \"1\" correspond to spheres that are in collision with the 11th sphere, and the entries with a \"0\" correspond to no collision."
   ]
  },
  {
   "cell_type": "markdown",
   "metadata": {},
   "source": [
    "### 5. Computing configuration space obstacles\n",
    "![Q5](hw5.asset/5.png)\n"
   ]
  },
  {
   "cell_type": "markdown",
   "metadata": {},
   "source": [
    "The configuration space obstacle for a robot $ T $ in a workspace with an obstacle $ R $ is the set of all points in the configuration space where the robot $ T $ would intersect with the obstacle $ R $ if the robot's reference point (usually its geometric center or a specific point on the robot) were placed at that point in the configuration space.\n",
    "\n",
    "Given that the robot $ T $ cannot rotate and can only translate, the configuration space obstacle $ R_{\\text{conf}} $ is obtained by subtracting each vertex of $ T $ from each vertex of $ R $ and then taking the convex hull of all the resulting points (if the robot's shape and the obstacle are convex, which they are in this case).\n",
    "\n",
    "For each vertex $ t $ of $ T $ and each vertex $ r $ of $ R $, we compute the vector $ r - t $. The resulting set of vectors defines the area in the configuration space that is blocked by the obstacle $ R $ when considering the shape of $ T $.\n",
    "\n",
    "Let's go ahead and compute $ R_{\\text{conf}} $.\n",
    "\n"
   ]
  },
  {
   "cell_type": "code",
   "execution_count": 25,
   "metadata": {},
   "outputs": [
    {
     "data": {
      "text/plain": [
       "[[4.0, 0.0], [7.0, 0.0], [8.0, 1.0], [8.0, 2.0], [4.0, 2.0]]"
      ]
     },
     "execution_count": 25,
     "metadata": {},
     "output_type": "execute_result"
    }
   ],
   "source": [
    "from scipy.spatial import ConvexHull\n",
    "\n",
    "# Given vertices of the triangular robot T and the rectangular obstacle R\n",
    "T = np.array([[0.00, 0.00], [1.00, 0.00], [1.00, 1.00]])\n",
    "R = np.array([[5, 1], [8, 1], [8, 2], [5, 2]])\n",
    "\n",
    "# Compute the configuration space obstacle R_conf by translating T's vertices over R's vertices\n",
    "R_conf = []\n",
    "\n",
    "# Translate T's vertices over R's vertices and collect all the vertices\n",
    "for t in T:\n",
    "    for r in R:\n",
    "        R_conf.append(r - t)\n",
    "\n",
    "# Compute the convex hull of the points to get the boundary of the obstacle in configuration space\n",
    "R_conf = np.array(R_conf)\n",
    "hull = ConvexHull(R_conf)\n",
    "\n",
    "# Extract the vertices of the convex hull in counterclockwise order\n",
    "R_conf_hull = R_conf[hull.vertices]\n",
    "\n",
    "# Sort the vertices to start with the lower leftmost point\n",
    "R_conf_hull = R_conf_hull[np.argsort(np.arctan2(R_conf_hull[:, 1], R_conf_hull[:, 0]))]\n",
    "\n",
    "R_conf_hull.tolist()\n"
   ]
  },
  {
   "cell_type": "markdown",
   "metadata": {},
   "source": [
    "The configuration space obstacle $ R_{\\text{conf}} $ is given by the following list of vertices in counterclockwise order, starting with the lower leftmost point:\n",
    "\n",
    "$$ R_{\\text{conf}} = \\left[ [4.0, 0.0], [7.0, 0.0], [8.0, 1.0], [8.0, 2.0], [4.0, 2.0] \\right] $$\n",
    "\n",
    "These vertices define the boundary of the space that the robot $ T $ cannot enter without colliding with the obstacle $ R $, given the robot's translation in the plane."
   ]
  },
  {
   "cell_type": "markdown",
   "metadata": {},
   "source": [
    "### 6. Uniform Sampling Properties\n",
    "![Q6](hw5.asset/6.png)\n"
   ]
  },
  {
   "cell_type": "markdown",
   "metadata": {},
   "source": [
    "The fraction of samples we would expect to be in the yellow highlighted region (the \"hallway\") as the number of samples approaches infinity can be computed by finding the area of the \"hallway\" relative to the total area of the configuration space that is not occupied by obstacles.\n",
    "\n",
    "Given that the total configuration space $ C $ is a square with side length 10, its area is $ 10 \\times 10 = 100 $ square units. The area occupied by each obstacle is the product of the lengths of its sides, and the area of the \"hallway\" can be calculated similarly.\n",
    "\n",
    "Let's calculate the area of the obstacles and the hallway:"
   ]
  },
  {
   "cell_type": "code",
   "execution_count": 26,
   "metadata": {},
   "outputs": [
    {
     "data": {
      "text/plain": [
       "(5, 0.078125)"
      ]
     },
     "execution_count": 26,
     "metadata": {},
     "output_type": "execute_result"
    }
   ],
   "source": [
    "# Define the coordinates for the hallway and obstacles\n",
    "hallway = np.array([[1, 4], [6, 4], [6, 5], [1, 5]])\n",
    "obs1 = np.array([[1, 1], [7, 1], [7, 4], [1, 4]])\n",
    "obs2 = np.array([[0, 5], [6, 5], [6, 8], [0, 8]])\n",
    "\n",
    "# Calculate the area of the configuration space C\n",
    "C_area = 10 * 10\n",
    "\n",
    "# Calculate the area of each obstacle\n",
    "obs1_area = (obs1[1][0] - obs1[0][0]) * (obs1[2][1] - obs1[1][1])\n",
    "obs2_area = (obs2[1][0] - obs2[0][0]) * (obs2[2][1] - obs2[1][1])\n",
    "\n",
    "# Calculate the area of the hallway\n",
    "hallway_area = (hallway[1][0] - hallway[0][0]) * (hallway[2][1] - hallway[1][1])\n",
    "\n",
    "# Calculate the fraction of the hallway area to the free space in the configuration space\n",
    "fraction_hallway = hallway_area / (C_area - obs1_area - obs2_area)\n",
    "\n",
    "hallway_area, fraction_hallway\n"
   ]
  },
  {
   "cell_type": "markdown",
   "metadata": {},
   "source": [
    "The area of the \"hallway\" is 5 square units. The fraction of the samples that we would expect to be in the \"hallway\" as the number of samples approaches infinity is approximately 0.078125 (or 7.8125%). This means that about 7.8125% of the random samples chosen in the configuration space will lie within the \"hallway\" area."
   ]
  }
 ],
 "metadata": {
  "kernelspec": {
   "display_name": "base",
   "language": "python",
   "name": "python3"
  },
  "language_info": {
   "codemirror_mode": {
    "name": "ipython",
    "version": 3
   },
   "file_extension": ".py",
   "mimetype": "text/x-python",
   "name": "python",
   "nbconvert_exporter": "python",
   "pygments_lexer": "ipython3",
   "version": "3.9.16"
  }
 },
 "nbformat": 4,
 "nbformat_minor": 2
}
