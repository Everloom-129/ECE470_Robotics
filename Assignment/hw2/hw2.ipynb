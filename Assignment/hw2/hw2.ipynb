{
 "cells": [
  {
   "cell_type": "code",
   "execution_count": 1,
   "metadata": {},
   "outputs": [
    {
     "data": {
      "text/plain": [
       "array([[1., 0., 0., 6.],\n",
       "       [0., 1., 0., 2.],\n",
       "       [0., 0., 1., 0.],\n",
       "       [0., 0., 0., 1.]])"
      ]
     },
     "execution_count": 1,
     "metadata": {},
     "output_type": "execute_result"
    }
   ],
   "source": [
    "import numpy as np\n",
    "\n",
    "# The translation from Frame 0 to Frame 1 in the home position\n",
    "p = np.array([6, 2, 0])\n",
    "\n",
    "# Since no rotation is specified and assuming zero orientation change at the home position, we use the identity matrix\n",
    "R = np.eye(3)\n",
    "\n",
    "# Create the homogeneous transformation matrix M\n",
    "M = np.eye(4)  # Start with a 4x4 identity matrix\n",
    "M[:3, :3] = R  # Set the top-left 3x3 to the rotation matrix\n",
    "M[:3, 3] = p   # Set the top-right 3x1 to the translation vector\n",
    "M\n"
   ]
  }
 ],
 "metadata": {
  "kernelspec": {
   "display_name": "base",
   "language": "python",
   "name": "python3"
  },
  "language_info": {
   "codemirror_mode": {
    "name": "ipython",
    "version": 3
   },
   "file_extension": ".py",
   "mimetype": "text/x-python",
   "name": "python",
   "nbconvert_exporter": "python",
   "pygments_lexer": "ipython3",
   "version": "3.9.16"
  }
 },
 "nbformat": 4,
 "nbformat_minor": 2
}
